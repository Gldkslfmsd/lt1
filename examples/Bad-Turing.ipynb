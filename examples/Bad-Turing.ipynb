{
 "metadata": {
  "name": ""
 },
 "nbformat": 3,
 "nbformat_minor": 0,
 "worksheets": [
  {
   "cells": [
    {
     "cell_type": "code",
     "collapsed": false,
     "input": [
      "class BigramProcessor:\n",
      "    def __init__(self):\n",
      "        '''Initializes empty dictionary for counts table'''\n",
      "        self.counts = {}\n",
      "        \n",
      "    def count_line(self, line):\n",
      "        '''Takes in a sentence and counts the words and \n",
      "        adds it to the table'''\n",
      "        words = line.split()\n",
      "        for i in range(1, len(words)):\n",
      "            bigram = (words[i-1], words[i])\n",
      "            if bigram not in self.counts:\n",
      "                self.counts[bigram] = 0\n",
      "            self.counts[bigram] += 1\n",
      "            \n",
      "    def prob_table(self, bt=False, cond=False):\n",
      "        '''Returns a bigram probability table from the internal counts table.\n",
      "        bt - Apply Good-Turing Smoothing with add-one (aka Bad-Turing)'''\n",
      "        result = {}\n",
      "        \n",
      "        counts = self.counts\n",
      "        if bt:\n",
      "            updated_counts = {}\n",
      "            ccs = self.cctable(add_one = True)\n",
      "            for key in self.counts:\n",
      "                mycount = float(ccs[self.counts[key]])\n",
      "                uppercount = float(ccs[self.counts[key] + 1])\n",
      "                updated_counts[key] = (float(self.counts[key]) + 1.0) * (uppercount/mycount)            \n",
      "        \n",
      "            counts = updated_counts\n",
      "            \n",
      "        if cond:\n",
      "            for key in counts:\n",
      "                current_item = key[0]\n",
      "                relevant_values = [counts[key_other] for key_other in counts \n",
      "                                   if key_other[0] == current_item]\n",
      "                total = sum(relevant_values)\n",
      "                result[key] = float(counts[key])/float(total)\n",
      "        else:\n",
      "            total = sum(counts.values())\n",
      "            for key in counts:\n",
      "                result[key] = float(counts[key])/float(total)\n",
      "            \n",
      "        return result\n",
      "    \n",
      "    def cctable(self, add_one=False):\n",
      "        '''Builds and returns the count of counts table.\n",
      "        add_one parameter is true if you want to add-one smooth the table.'''\n",
      "        counts = self.counts.values()\n",
      "        ccs = {}\n",
      "        for count in counts:\n",
      "            if count not in ccs:\n",
      "                ccs[count] = 0\n",
      "            ccs[count] += 1\n",
      "        \n",
      "        \n",
      "        if add_one:\n",
      "            maxkey = max(ccs.keys())\n",
      "            for i in range(1, maxkey):\n",
      "                if i not in ccs:\n",
      "                    ccs[i] = 0\n",
      "                ccs[i] += 1\n",
      "                \n",
      "            ccs[maxkey + 1] = 1\n",
      "        \n",
      "        return ccs\n",
      "    \n",
      "    def prob_unseen(self, bt=False):\n",
      "        '''Give us the probability of an unseen item, with and without \n",
      "        Bad-Turing/add-one smoothing of the counts table'''\n",
      "        ccs = self.cctable(add_one=bt)\n",
      "        return float(ccs[1])/float(sum(self.counts.values()))"
     ],
     "language": "python",
     "metadata": {},
     "outputs": [],
     "prompt_number": 13
    },
    {
     "cell_type": "code",
     "collapsed": false,
     "input": [
      "bp = BigramProcessor()"
     ],
     "language": "python",
     "metadata": {},
     "outputs": [],
     "prompt_number": 14
    },
    {
     "cell_type": "code",
     "collapsed": false,
     "input": [
      "bp.count_line(\"<s> peter piper picked a peck of pickled peppers </s>\")\n",
      "bp.count_line(\"<s> a peck of pickled peppers peter piper picked </s>\")\n",
      "bp.count_line(\"<s> if peter piper picked a peck of pickled peppers </s>\")\n",
      "bp.count_line(\"<s> where s the peck of pickled peppers peter piper picked </s>\")\n"
     ],
     "language": "python",
     "metadata": {},
     "outputs": [],
     "prompt_number": 15
    },
    {
     "cell_type": "code",
     "collapsed": false,
     "input": [
      "bp.counts"
     ],
     "language": "python",
     "metadata": {},
     "outputs": [
      {
       "metadata": {},
       "output_type": "pyout",
       "prompt_number": 16,
       "text": [
        "{('<s>', 'a'): 1,\n",
        " ('<s>', 'if'): 1,\n",
        " ('<s>', 'peter'): 1,\n",
        " ('<s>', 'where'): 1,\n",
        " ('a', 'peck'): 3,\n",
        " ('if', 'peter'): 1,\n",
        " ('of', 'pickled'): 4,\n",
        " ('peck', 'of'): 4,\n",
        " ('peppers', '</s>'): 2,\n",
        " ('peppers', 'peter'): 2,\n",
        " ('peter', 'piper'): 4,\n",
        " ('picked', '</s>'): 2,\n",
        " ('picked', 'a'): 2,\n",
        " ('pickled', 'peppers'): 4,\n",
        " ('piper', 'picked'): 4,\n",
        " ('s', 'the'): 1,\n",
        " ('the', 'peck'): 1,\n",
        " ('where', 's'): 1}"
       ]
      }
     ],
     "prompt_number": 16
    },
    {
     "cell_type": "code",
     "collapsed": false,
     "input": [
      "bp.prob_table()"
     ],
     "language": "python",
     "metadata": {},
     "outputs": [
      {
       "metadata": {},
       "output_type": "pyout",
       "prompt_number": 17,
       "text": [
        "{('<s>', 'a'): 0.02564102564102564,\n",
        " ('<s>', 'if'): 0.02564102564102564,\n",
        " ('<s>', 'peter'): 0.02564102564102564,\n",
        " ('<s>', 'where'): 0.02564102564102564,\n",
        " ('a', 'peck'): 0.07692307692307693,\n",
        " ('if', 'peter'): 0.02564102564102564,\n",
        " ('of', 'pickled'): 0.10256410256410256,\n",
        " ('peck', 'of'): 0.10256410256410256,\n",
        " ('peppers', '</s>'): 0.05128205128205128,\n",
        " ('peppers', 'peter'): 0.05128205128205128,\n",
        " ('peter', 'piper'): 0.10256410256410256,\n",
        " ('picked', '</s>'): 0.05128205128205128,\n",
        " ('picked', 'a'): 0.05128205128205128,\n",
        " ('pickled', 'peppers'): 0.10256410256410256,\n",
        " ('piper', 'picked'): 0.10256410256410256,\n",
        " ('s', 'the'): 0.02564102564102564,\n",
        " ('the', 'peck'): 0.02564102564102564,\n",
        " ('where', 's'): 0.02564102564102564}"
       ]
      }
     ],
     "prompt_number": 17
    },
    {
     "cell_type": "code",
     "collapsed": false,
     "input": [
      "bp.cctable()"
     ],
     "language": "python",
     "metadata": {},
     "outputs": [
      {
       "metadata": {},
       "output_type": "pyout",
       "prompt_number": 18,
       "text": [
        "{1: 8, 2: 4, 3: 1, 4: 5}"
       ]
      }
     ],
     "prompt_number": 18
    },
    {
     "cell_type": "code",
     "collapsed": false,
     "input": [
      "bp.cctable(add_one=True)"
     ],
     "language": "python",
     "metadata": {},
     "outputs": [
      {
       "metadata": {},
       "output_type": "pyout",
       "prompt_number": 19,
       "text": [
        "{1: 9, 2: 5, 3: 2, 4: 5, 5: 1}"
       ]
      }
     ],
     "prompt_number": 19
    },
    {
     "cell_type": "code",
     "collapsed": false,
     "input": [
      "bp.prob_table(bt=True)"
     ],
     "language": "python",
     "metadata": {},
     "outputs": [
      {
       "metadata": {},
       "output_type": "pyout",
       "prompt_number": 20,
       "text": [
        "{('<s>', 'a'): 0.03872966692486446,\n",
        " ('<s>', 'if'): 0.03872966692486446,\n",
        " ('<s>', 'peter'): 0.03872966692486446,\n",
        " ('<s>', 'where'): 0.03872966692486446,\n",
        " ('a', 'peck'): 0.3485670023237801,\n",
        " ('if', 'peter'): 0.03872966692486446,\n",
        " ('of', 'pickled'): 0.03485670023237801,\n",
        " ('peck', 'of'): 0.03485670023237801,\n",
        " ('peppers', '</s>'): 0.04182804027885362,\n",
        " ('peppers', 'peter'): 0.04182804027885362,\n",
        " ('peter', 'piper'): 0.03485670023237801,\n",
        " ('picked', '</s>'): 0.04182804027885362,\n",
        " ('picked', 'a'): 0.04182804027885362,\n",
        " ('pickled', 'peppers'): 0.03485670023237801,\n",
        " ('piper', 'picked'): 0.03485670023237801,\n",
        " ('s', 'the'): 0.03872966692486446,\n",
        " ('the', 'peck'): 0.03872966692486446,\n",
        " ('where', 's'): 0.03872966692486446}"
       ]
      }
     ],
     "prompt_number": 20
    },
    {
     "cell_type": "code",
     "collapsed": false,
     "input": [
      "bp.prob_table(cond=True)"
     ],
     "language": "python",
     "metadata": {},
     "outputs": [
      {
       "metadata": {},
       "output_type": "pyout",
       "prompt_number": 21,
       "text": [
        "{('<s>', 'a'): 0.25,\n",
        " ('<s>', 'if'): 0.25,\n",
        " ('<s>', 'peter'): 0.25,\n",
        " ('<s>', 'where'): 0.25,\n",
        " ('a', 'peck'): 1.0,\n",
        " ('if', 'peter'): 1.0,\n",
        " ('of', 'pickled'): 1.0,\n",
        " ('peck', 'of'): 1.0,\n",
        " ('peppers', '</s>'): 0.5,\n",
        " ('peppers', 'peter'): 0.5,\n",
        " ('peter', 'piper'): 1.0,\n",
        " ('picked', '</s>'): 0.5,\n",
        " ('picked', 'a'): 0.5,\n",
        " ('pickled', 'peppers'): 1.0,\n",
        " ('piper', 'picked'): 1.0,\n",
        " ('s', 'the'): 1.0,\n",
        " ('the', 'peck'): 1.0,\n",
        " ('where', 's'): 1.0}"
       ]
      }
     ],
     "prompt_number": 21
    },
    {
     "cell_type": "code",
     "collapsed": false,
     "input": [
      "bp.prob_table(bt=True, cond=True)"
     ],
     "language": "python",
     "metadata": {},
     "outputs": [
      {
       "metadata": {},
       "output_type": "pyout",
       "prompt_number": 22,
       "text": [
        "{('<s>', 'a'): 0.25,\n",
        " ('<s>', 'if'): 0.25,\n",
        " ('<s>', 'peter'): 0.25,\n",
        " ('<s>', 'where'): 0.25,\n",
        " ('a', 'peck'): 1.0,\n",
        " ('if', 'peter'): 1.0,\n",
        " ('of', 'pickled'): 1.0,\n",
        " ('peck', 'of'): 1.0,\n",
        " ('peppers', '</s>'): 0.5,\n",
        " ('peppers', 'peter'): 0.5,\n",
        " ('peter', 'piper'): 1.0,\n",
        " ('picked', '</s>'): 0.5,\n",
        " ('picked', 'a'): 0.5,\n",
        " ('pickled', 'peppers'): 1.0,\n",
        " ('piper', 'picked'): 1.0,\n",
        " ('s', 'the'): 1.0,\n",
        " ('the', 'peck'): 1.0,\n",
        " ('where', 's'): 1.0}"
       ]
      }
     ],
     "prompt_number": 22
    },
    {
     "cell_type": "code",
     "collapsed": false,
     "input": [
      "bp.prob_unseen()"
     ],
     "language": "python",
     "metadata": {},
     "outputs": [
      {
       "metadata": {},
       "output_type": "pyout",
       "prompt_number": 23,
       "text": [
        "0.20512820512820512"
       ]
      }
     ],
     "prompt_number": 23
    },
    {
     "cell_type": "code",
     "collapsed": false,
     "input": [
      "bp.prob_unseen(bt=True)"
     ],
     "language": "python",
     "metadata": {},
     "outputs": [
      {
       "metadata": {},
       "output_type": "pyout",
       "prompt_number": 25,
       "text": [
        "0.23076923076923078"
       ]
      }
     ],
     "prompt_number": 25
    },
    {
     "cell_type": "code",
     "collapsed": false,
     "input": [],
     "language": "python",
     "metadata": {},
     "outputs": []
    }
   ],
   "metadata": {}
  }
 ]
}