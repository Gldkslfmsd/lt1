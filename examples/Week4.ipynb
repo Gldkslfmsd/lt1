{
 "metadata": {
  "name": ""
 },
 "nbformat": 3,
 "nbformat_minor": 0,
 "worksheets": [
  {
   "cells": [
    {
     "cell_type": "code",
     "collapsed": false,
     "input": [],
     "language": "python",
     "metadata": {},
     "outputs": []
    },
    {
     "cell_type": "raw",
     "metadata": {},
     "source": [
      "To set up the environment variable:"
     ]
    },
    {
     "cell_type": "raw",
     "metadata": {},
     "source": [
      "    export SRILM=/home/asayeed/srilm"
     ]
    },
    {
     "cell_type": "raw",
     "metadata": {},
     "source": [
      "To compile the binary executables:"
     ]
    },
    {
     "cell_type": "raw",
     "metadata": {},
     "source": [
      "    make -j 2 World"
     ]
    },
    {
     "cell_type": "raw",
     "metadata": {},
     "source": [
      "To set the path:"
     ]
    },
    {
     "cell_type": "raw",
     "metadata": {},
     "source": [
      "    export PATH=$PATH:/home/asayeed/srilm/bin:/home/asayeed/srilm/bin/i686-m64\n",
      "(assuming you have the right architecture, replace i686-m64 as appropriate)"
     ]
    },
    {
     "cell_type": "heading",
     "level": 1,
     "metadata": {},
     "source": [
      "Let's process some text!!!"
     ]
    },
    {
     "cell_type": "code",
     "collapsed": false,
     "input": [
      "import nltk.data"
     ],
     "language": "python",
     "metadata": {},
     "outputs": [],
     "prompt_number": 1
    },
    {
     "cell_type": "code",
     "collapsed": false,
     "input": [
      "text = '''\n",
      "I am a jelly donut. I like to eat others\n",
      "of my own kind. People who like to eat\n",
      "jelly donuts are my friends, as Dr.\n",
      "Homer Simpson has always told me, \n",
      "except when the good doctor's hunger\n",
      "struck, and I nearly faced annihilation.\n",
      "Let me guide you into the inner experience\n",
      "of the donut life.\n",
      "'''"
     ],
     "language": "python",
     "metadata": {},
     "outputs": [],
     "prompt_number": 2
    },
    {
     "cell_type": "code",
     "collapsed": false,
     "input": [
      "text"
     ],
     "language": "python",
     "metadata": {},
     "outputs": [
      {
       "metadata": {},
       "output_type": "pyout",
       "prompt_number": 3,
       "text": [
        "\"\\nI am a jelly donut. I like to eat others\\nof my own kind. People who like to eat\\njelly donuts are my friends, as Dr.\\nHomer Simpson has always told me, \\nexcept when the good doctor's hunger\\nstruck, and I nearly faced annihilation.\\nLet me guide you into the inner experience\\nof the donut life.\\n\""
       ]
      }
     ],
     "prompt_number": 3
    },
    {
     "cell_type": "code",
     "collapsed": false,
     "input": [
      "sent_detector = nltk.data.load('tokenizers/punkt/english.pickle')"
     ],
     "language": "python",
     "metadata": {},
     "outputs": [],
     "prompt_number": 4
    },
    {
     "cell_type": "code",
     "collapsed": false,
     "input": [
      "sent_tokenized = sent_detector.tokenize(text)"
     ],
     "language": "python",
     "metadata": {},
     "outputs": [],
     "prompt_number": 5
    },
    {
     "cell_type": "code",
     "collapsed": false,
     "input": [
      "sent_tokenized"
     ],
     "language": "python",
     "metadata": {},
     "outputs": [
      {
       "metadata": {},
       "output_type": "pyout",
       "prompt_number": 6,
       "text": [
        "['\\nI am a jelly donut.',\n",
        " 'I like to eat others\\nof my own kind.',\n",
        " \"People who like to eat\\njelly donuts are my friends, as Dr.\\nHomer Simpson has always told me, \\nexcept when the good doctor's hunger\\nstruck, and I nearly faced annihilation.\",\n",
        " 'Let me guide you into the inner experience\\nof the donut life.\\n']"
       ]
      }
     ],
     "prompt_number": 6
    },
    {
     "cell_type": "code",
     "collapsed": false,
     "input": [
      "from nltk.tokenize import WordPunctTokenizer"
     ],
     "language": "python",
     "metadata": {},
     "outputs": [],
     "prompt_number": 7
    },
    {
     "cell_type": "code",
     "collapsed": false,
     "input": [
      "wptokenizer = WordPunctTokenizer()"
     ],
     "language": "python",
     "metadata": {},
     "outputs": [],
     "prompt_number": 8
    },
    {
     "cell_type": "code",
     "collapsed": false,
     "input": [
      "sent_tokenized[2]"
     ],
     "language": "python",
     "metadata": {},
     "outputs": [
      {
       "metadata": {},
       "output_type": "pyout",
       "prompt_number": 9,
       "text": [
        "\"People who like to eat\\njelly donuts are my friends, as Dr.\\nHomer Simpson has always told me, \\nexcept when the good doctor's hunger\\nstruck, and I nearly faced annihilation.\""
       ]
      }
     ],
     "prompt_number": 9
    },
    {
     "cell_type": "code",
     "collapsed": false,
     "input": [
      "tokenized2 = wptokenizer.tokenize(sent_tokenized[2])"
     ],
     "language": "python",
     "metadata": {},
     "outputs": [],
     "prompt_number": 10
    },
    {
     "cell_type": "code",
     "collapsed": false,
     "input": [
      "tokenized2"
     ],
     "language": "python",
     "metadata": {},
     "outputs": [
      {
       "metadata": {},
       "output_type": "pyout",
       "prompt_number": 11,
       "text": [
        "['People',\n",
        " 'who',\n",
        " 'like',\n",
        " 'to',\n",
        " 'eat',\n",
        " 'jelly',\n",
        " 'donuts',\n",
        " 'are',\n",
        " 'my',\n",
        " 'friends',\n",
        " ',',\n",
        " 'as',\n",
        " 'Dr',\n",
        " '.',\n",
        " 'Homer',\n",
        " 'Simpson',\n",
        " 'has',\n",
        " 'always',\n",
        " 'told',\n",
        " 'me',\n",
        " ',',\n",
        " 'except',\n",
        " 'when',\n",
        " 'the',\n",
        " 'good',\n",
        " 'doctor',\n",
        " \"'\",\n",
        " 's',\n",
        " 'hunger',\n",
        " 'struck',\n",
        " ',',\n",
        " 'and',\n",
        " 'I',\n",
        " 'nearly',\n",
        " 'faced',\n",
        " 'annihilation',\n",
        " '.']"
       ]
      }
     ],
     "prompt_number": 11
    },
    {
     "cell_type": "code",
     "collapsed": false,
     "input": [
      "\" \".join(tokenized2)"
     ],
     "language": "python",
     "metadata": {},
     "outputs": [
      {
       "metadata": {},
       "output_type": "pyout",
       "prompt_number": 12,
       "text": [
        "\"People who like to eat jelly donuts are my friends , as Dr . Homer Simpson has always told me , except when the good doctor ' s hunger struck , and I nearly faced annihilation .\""
       ]
      }
     ],
     "prompt_number": 12
    },
    {
     "cell_type": "heading",
     "level": 1,
     "metadata": {},
     "source": [
      "Back to SRILM"
     ]
    },
    {
     "cell_type": "raw",
     "metadata": {},
     "source": [
      "To train a basic, Good-Turing discounted trigram model:"
     ]
    },
    {
     "cell_type": "raw",
     "metadata": {},
     "source": [
      "    ngram-count -lm memoirs.lm -text memoirs.txt"
     ]
    },
    {
     "cell_type": "raw",
     "metadata": {},
     "source": [
      "To train the same with 4-grams:"
     ]
    },
    {
     "cell_type": "raw",
     "metadata": {},
     "source": [
      "    ngram-count -lm memoirs.lm -text memoirs.txt"
     ]
    },
    {
     "cell_type": "raw",
     "metadata": {},
     "source": [
      "To evaluate a model:"
     ]
    },
    {
     "cell_type": "raw",
     "metadata": {},
     "source": [
      "    ngram -lm memoirs.lm -ppl sense.txt"
     ]
    }
   ],
   "metadata": {}
  }
 ]
}